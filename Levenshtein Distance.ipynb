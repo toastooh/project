{
 "cells": [
  {
   "cell_type": "code",
   "execution_count": 24,
   "metadata": {},
   "outputs": [
    {
     "name": "stdout",
     "output_type": "stream",
     "text": [
      "3.0\n"
     ]
    },
    {
     "data": {
      "text/plain": [
       "3.0"
      ]
     },
     "execution_count": 24,
     "metadata": {},
     "output_type": "execute_result"
    }
   ],
   "source": [
    "import numpy\n",
    "import pandas as pd\n",
    "\n",
    "def levenshteinDistanceDP(token1, token2):\n",
    "    distances = numpy.zeros((len(token1) + 1, len(token2) + 1))\n",
    "\n",
    "    for t1 in range(len(token1) + 1):\n",
    "        distances[t1][0] = t1\n",
    "\n",
    "    for t2 in range(len(token2) + 1):\n",
    "        distances[0][t2] = t2\n",
    "        \n",
    "    a = 0\n",
    "    b = 0\n",
    "    c = 0\n",
    "    \n",
    "    for t1 in range(1, len(token1) + 1):\n",
    "        for t2 in range(1, len(token2) + 1):\n",
    "            if (token1[t1-1] == token2[t2-1]):\n",
    "                distances[t1][t2] = distances[t1 - 1][t2 - 1]\n",
    "            else:\n",
    "                a = distances[t1][t2 - 1]\n",
    "                b = distances[t1 - 1][t2]\n",
    "                c = distances[t1 - 1][t2 - 1]\n",
    "                \n",
    "                if (a <= b and a <= c):\n",
    "                    distances[t1][t2] = a + 1\n",
    "                elif (b <= a and b <= c):\n",
    "                    distances[t1][t2] = b + 1\n",
    "                else:\n",
    "                    distances[t1][t2] = c + 1\n",
    "\n",
    "    #printDistances(distances, len(token1), len(token2))\n",
    "    print(distances[len(token1)][len(token2)])\n",
    "    return distances[len(token1)][len(token2)]\n",
    "\n",
    "def printDistances(distances, token1Length, token2Length):\n",
    "    for t1 in range(token1Length + 1):\n",
    "        for t2 in range(token2Length + 1):\n",
    "            print(int(distances[t1][t2]), end=\" \")\n",
    "        print()\n",
    "        \n",
    "levenshteinDistanceDP(\"kelm\", \"hello\")\n"
   ]
  },
  {
   "cell_type": "code",
   "execution_count": 10,
   "metadata": {},
   "outputs": [
    {
     "data": {
      "text/plain": [
       "0     XWebPageName=diag&diag_action=ping&wan_conlist...\n",
       "1     comment=Buy+fosamax+codwholesale+fosamax%0A%3C...\n",
       "2     comment=Buy+discount+cefixime+without+prescipt...\n",
       "3     action=lay_navigation&eoltype=unix&token=&conf...\n",
       "4     action=lay_navigation&eoltype=unix&token=&conf...\n",
       "5     action=lay_navigation&eoltype=unix&token=&conf...\n",
       "6     action=lay_navigation&eoltype=unix&token=&conf...\n",
       "7     action=lay_navigation&eoltype=unix&token=&conf...\n",
       "8     action=lay_navigation&eoltype=unix&token=&conf...\n",
       "9     comment=Cheap+benoquin+overnight+delivery%0A%3...\n",
       "10    <soap:Envelope xmlns:xsd=\"http://www.w3.org/20...\n",
       "11    action=lay_navigation&eoltype=unix&token=&conf...\n",
       "12    comment=Can+i+purchase+biaxin%0A%3Ca+href%3D%2...\n",
       "13    action=lay_navigation&eoltype=unix&token=&conf...\n",
       "14    comment=Biaxin+saturday+delivery+tablets%0A%3C...\n",
       "15    comment=Buy+amoxicillin+medication+biaxin+comp...\n",
       "16    comment=Want+to+buy+zestril%0A%3Ca+href%3D%22h...\n",
       "17    comment=Can+i+buy+zestril%0A%3Ca+href%3D%22htt...\n",
       "18    action=lay_navigation&eoltype=unix&token=&conf...\n",
       "19    action=lay_navigation&eoltype=unix&token=&conf...\n",
       "20    action=lay_navigation&eoltype=unix&token=&conf...\n",
       "21    action=lay_navigation&eoltype=unix&token=&conf...\n",
       "22    comment=Can+i+order+cardura%0A%3Ca+href%3D%22h...\n",
       "Name: File Data, dtype: object"
      ]
     },
     "execution_count": 10,
     "metadata": {},
     "output_type": "execute_result"
    }
   ],
   "source": [
    "data=pd.read_csv(\"C:/Users/cherry/Downloads/post.csv\")\n",
    "data['File Data']"
   ]
  },
  {
   "cell_type": "code",
   "execution_count": 15,
   "metadata": {},
   "outputs": [
    {
     "name": "stdout",
     "output_type": "stream",
     "text": [
      "23\n"
     ]
    }
   ],
   "source": [
    "index=data.index\n",
    "number_of_rows = len(index)\n",
    "print(number_of_rows)"
   ]
  },
  {
   "cell_type": "code",
   "execution_count": 27,
   "metadata": {},
   "outputs": [
    {
     "name": "stdout",
     "output_type": "stream",
     "text": [
      "226.0\n",
      "0.0\n",
      "66.0\n",
      "205.0\n",
      "205.0\n",
      "205.0\n",
      "205.0\n",
      "205.0\n",
      "205.0\n",
      "65.0\n",
      "240.0\n",
      "205.0\n",
      "183.0\n",
      "205.0\n",
      "171.0\n",
      "151.0\n",
      "192.0\n",
      "191.0\n",
      "205.0\n",
      "205.0\n",
      "205.0\n",
      "205.0\n",
      "167.0\n"
     ]
    }
   ],
   "source": [
    "for i in range(number_of_rows):\n",
    "    levenshteinDistanceDP(data['File Data'][1],data['File Data'][i])\n"
   ]
  },
  {
   "cell_type": "code",
   "execution_count": null,
   "metadata": {},
   "outputs": [],
   "source": []
  }
 ],
 "metadata": {
  "kernelspec": {
   "display_name": "Python 3",
   "language": "python",
   "name": "python3"
  },
  "language_info": {
   "codemirror_mode": {
    "name": "ipython",
    "version": 3
   },
   "file_extension": ".py",
   "mimetype": "text/x-python",
   "name": "python",
   "nbconvert_exporter": "python",
   "pygments_lexer": "ipython3",
   "version": "3.7.6"
  }
 },
 "nbformat": 4,
 "nbformat_minor": 4
}
